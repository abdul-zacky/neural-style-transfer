{
  "cells": [
    {
      "cell_type": "markdown",
      "metadata": {
        "colab_type": "text",
        "id": "view-in-github"
      },
      "source": [
        "<a href=\"https://colab.research.google.com/github/abdul-zacky/neural-style-transfer/blob/main/Neural_Style_Transfer.ipynb\" target=\"_parent\"><img src=\"https://colab.research.google.com/assets/colab-badge.svg\" alt=\"Open In Colab\"/></a>"
      ]
    },
    {
      "cell_type": "code",
      "execution_count": null,
      "metadata": {
        "id": "CEs_EHmbY9fh"
      },
      "outputs": [],
      "source": [
        "import torch\n",
        "import torch.nn as nn\n",
        "import torch.optim as optim\n",
        "from PIL import Image\n",
        "import torchvision.transforms as transforms\n",
        "import torchvision.models as models\n",
        "from torchvision.utils import save_image"
      ]
    },
    {
      "cell_type": "code",
      "execution_count": null,
      "metadata": {
        "id": "A5WXm7EHtqQE"
      },
      "outputs": [],
      "source": [
        "# class VGG19(nn.Module):\n",
        "#     def __init__(self, num_classes=1000):\n",
        "#         super(VGG19, self).__init__()\n",
        "#         # Convolutional layers\n",
        "#         self.features = nn.Sequential(\n",
        "#             # Block 1\n",
        "#             nn.Conv2d(3, 64, kernel_size=3, padding=1),\n",
        "#             nn.ReLU(inplace=True),\n",
        "#             nn.Conv2d(64, 64, kernel_size=3, padding=1),\n",
        "#             nn.ReLU(inplace=True),\n",
        "#             nn.MaxPool2d(kernel_size=2, stride=2),\n",
        "\n",
        "#             # Block 2\n",
        "#             nn.Conv2d(64, 128, kernel_size=3, padding=1),\n",
        "#             nn.ReLU(inplace=True),\n",
        "#             nn.Conv2d(128, 128, kernel_size=3, padding=1),\n",
        "#             nn.ReLU(inplace=True),\n",
        "#             nn.MaxPool2d(kernel_size=2, stride=2),\n",
        "\n",
        "#             # Block 3\n",
        "#             nn.Conv2d(128, 256, kernel_size=3, padding=1),\n",
        "#             nn.ReLU(inplace=True),\n",
        "#             nn.Conv2d(256, 256, kernel_size=3, padding=1),\n",
        "#             nn.ReLU(inplace=True),\n",
        "#             nn.Conv2d(256, 256, kernel_size=3, padding=1),\n",
        "#             nn.ReLU(inplace=True),\n",
        "#             nn.Conv2d(256, 256, kernel_size=3, padding=1),\n",
        "#             nn.ReLU(inplace=True),\n",
        "#             nn.MaxPool2d(kernel_size=2, stride=2),\n",
        "\n",
        "#             # Block 4\n",
        "#             nn.Conv2d(256, 512, kernel_size=3, padding=1),\n",
        "#             nn.ReLU(inplace=True),\n",
        "#             nn.Conv2d(512, 512, kernel_size=3, padding=1),\n",
        "#             nn.ReLU(inplace=True),\n",
        "#             nn.Conv2d(512, 512, kernel_size=3, padding=1),\n",
        "#             nn.ReLU(inplace=True),\n",
        "#             nn.Conv2d(512, 512, kernel_size=3, padding=1),\n",
        "#             nn.ReLU(inplace=True),\n",
        "#             nn.MaxPool2d(kernel_size=2, stride=2),\n",
        "\n",
        "#             # Block 5\n",
        "#             nn.Conv2d(512, 512, kernel_size=3, padding=1),\n",
        "#             nn.ReLU(inplace=True),\n",
        "#             nn.Conv2d(512, 512, kernel_size=3, padding=1),\n",
        "#             nn.ReLU(inplace=True),\n",
        "#             nn.Conv2d(512, 512, kernel_size=3, padding=1),\n",
        "#             nn.ReLU(inplace=True),\n",
        "#             nn.Conv2d(512, 512, kernel_size=3, padding=1),\n",
        "#             nn.ReLU(inplace=True),\n",
        "#             nn.MaxPool2d(kernel_size=2, stride=2),\n",
        "#         )\n",
        "\n",
        "#         # Fully connected layers\n",
        "#         self.classifier = nn.Sequential(\n",
        "#             nn.Linear(512 * 7 * 7, 4096),\n",
        "#             nn.ReLU(True),\n",
        "#             nn.Dropout(),\n",
        "#             nn.Linear(4096, 4096),\n",
        "#             nn.ReLU(True),\n",
        "#             nn.Dropout(),\n",
        "#             nn.Linear(4096, num_classes),\n",
        "#         )\n",
        "\n",
        "#         # Initialize weights\n",
        "#         self._initialize_weights()\n",
        "\n",
        "#     def forward(self, x):\n",
        "#         x = self.features(x)\n",
        "#         x = torch.flatten(x, 1)\n",
        "#         x = self.classifier(x)\n",
        "#         return x\n",
        "\n",
        "#     def _initialize_weights(self):\n",
        "#         for m in self.modules():\n",
        "#             if isinstance(m, nn.Conv2d):\n",
        "#                 nn.init.kaiming_normal_(m.weight, mode='fan_out', nonlinearity='relu')\n",
        "#                 if m.bias is not None:\n",
        "#                     nn.init.constant_(m.bias, 0)\n",
        "#             elif isinstance(m, nn.Linear):\n",
        "#                 nn.init.normal_(m.weight, 0, 0.01)\n",
        "#                 nn.init.constant_(m.bias, 0)\n",
        "\n",
        "# # Create an instance of VGG19\n",
        "# # model = VGG19(num_classes=1000)"
      ]
    },
    {
      "cell_type": "code",
      "execution_count": null,
      "metadata": {
        "id": "7Kp68ZiP3uVf"
      },
      "outputs": [],
      "source": [
        "model = models.vgg19(pretrained=True).features"
      ]
    },
    {
      "cell_type": "code",
      "execution_count": null,
      "metadata": {
        "id": "nhdAa-cP5fJW"
      },
      "outputs": [],
      "source": [
        "class VGG(nn.Module):\n",
        "  def __init__(self):\n",
        "    super(VGG, self).__init__()\n",
        "    self.chosen_features = ['0', '5', '10', '19', '28']\n",
        "    self.model = models.vgg19(pretrained=True).features[:29]\n",
        "\n",
        "  def forward(self, x):\n",
        "    features = []\n",
        "    for layer_num, layer in enumerate(self.model):\n",
        "      x = layer(x)\n",
        "      if str(layer_num) in self.chosen_features:\n",
        "        features.append(x)\n",
        "    return features"
      ]
    },
    {
      "cell_type": "code",
      "execution_count": null,
      "metadata": {
        "id": "87uq_jFe418v"
      },
      "outputs": [],
      "source": [
        "device = torch.device(\"cuda\" if torch.cuda.is_available() else \"cpu\")\n",
        "image_size = 356\n",
        "\n",
        "def load_image(image_name):\n",
        "  image = Image.open(image_name)\n",
        "  image = loader(image).unsqueeze(0)\n",
        "  return image.to(device)\n",
        "\n",
        "loader = transforms.Compose(\n",
        "    [\n",
        "        transforms.Resize((image_size, image_size)),\n",
        "        transforms.ToTensor()\n",
        "        # transforms.Normalze([mean=[], std=[]])\n",
        "    ]\n",
        ")"
      ]
    },
    {
      "cell_type": "code",
      "execution_count": null,
      "metadata": {
        "colab": {
          "background_save": true,
          "base_uri": "https://localhost:8080/"
        },
        "id": "Auc9Sq_y8ha1",
        "outputId": "27fcfd4d-aab0-4102-bb54-5fda753bcea8"
      },
      "outputs": [
        {
          "name": "stdout",
          "output_type": "stream",
          "text": [
            "tensor(455415.6562, grad_fn=<AddBackward0>)\n",
            "tensor(19144.7422, grad_fn=<AddBackward0>)\n"
          ]
        }
      ],
      "source": [
        "original_img = 'images-7.jpeg'\n",
        "style_img = 'images-6.jpeg'\n",
        "\n",
        "original_img = load_image(original_img)\n",
        "style_img = load_image(style_img)\n",
        "\n",
        "# generated = torch.randn(original_img.shape, device=device, requires_grad=True)\n",
        "generated = original_img.clone().requires_grad_(True)\n",
        "model = VGG().to(device).eval()\n",
        "\n",
        "total_steps = 6000\n",
        "learning_rate = 0.001\n",
        "alpha = 1\n",
        "beta = 0.01\n",
        "optimizer = optim.Adam([generated], lr=learning_rate)\n",
        "\n",
        "for step in range(total_steps):\n",
        "  generated_features = model(generated)\n",
        "  original_img_features = model(original_img)\n",
        "  style_features = model(style_img)\n",
        "\n",
        "  style_loss = original_loss = 0\n",
        "\n",
        "  for gen_feature, orig_feature, style_feature in zip(\n",
        "      generated_features, original_img_features, style_features\n",
        "  ):\n",
        "    batch_size, channel, height, width = gen_feature.shape\n",
        "    original_loss += torch.mean((gen_feature - orig_feature) ** 2)\n",
        "\n",
        "    G = gen_feature.view(channel, height * width).mm(\n",
        "      gen_feature.view(channel, height * width).t()\n",
        "    )\n",
        "\n",
        "    A = style_feature.view(channel, height * width).mm(\n",
        "      style_feature.view(channel, height * width).t()\n",
        "    )\n",
        "\n",
        "    style_loss += torch.mean((G - A) ** 2)\n",
        "\n",
        "  total_loss = alpha * original_loss + beta * style_loss\n",
        "  optimizer.zero_grad()\n",
        "  total_loss.backward()\n",
        "  optimizer.step()\n",
        "\n",
        "  if step % 200 == 0:\n",
        "    print(total_loss)\n",
        "    save_image(generated, \"generated.png\")"
      ]
    },
    {
      "cell_type": "code",
      "execution_count": null,
      "metadata": {
        "id": "kM-h_i2O1eoJ"
      },
      "outputs": [],
      "source": []
    },
    {
      "cell_type": "code",
      "execution_count": null,
      "metadata": {
        "id": "-C8JPR_eBxX9"
      },
      "outputs": [],
      "source": [
        "!git config --global user.email \"zacxvan@gmail.com\"\n",
        "!git config --global user.name \"abdul-zacky\""
      ]
    }
  ],
  "metadata": {
    "colab": {
      "authorship_tag": "ABX9TyP9F1dqdqZ2nqZZsvjFmD1O",
      "include_colab_link": true,
      "provenance": []
    },
    "kernelspec": {
      "display_name": "Python 3",
      "name": "python3"
    },
    "language_info": {
      "name": "python"
    }
  },
  "nbformat": 4,
  "nbformat_minor": 0
}
